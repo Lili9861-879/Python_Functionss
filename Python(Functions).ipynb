{
  "nbformat": 4,
  "nbformat_minor": 0,
  "metadata": {
    "colab": {
      "provenance": []
    },
    "kernelspec": {
      "name": "python3",
      "display_name": "Python 3"
    },
    "language_info": {
      "name": "python"
    }
  },
  "cells": [
    {
      "cell_type": "code",
      "execution_count": null,
      "metadata": {
        "id": "rdxfVJOtB20A"
      },
      "outputs": [],
      "source": []
    },
    {
      "cell_type": "markdown",
      "source": [
        "# Theory Questions with Answers"
      ],
      "metadata": {
        "id": "UOygSyDBoGzq"
      }
    },
    {
      "cell_type": "markdown",
      "source": [
        "\n",
        "**1.What is the difference between a function and a method in Python?**\n",
        "\n",
        "•\tA function is a block of code that works on its own.\n",
        "\n",
        "•\tA method is a function that is connected to an object (like a string or list).\n",
        "\n",
        "**Example:**\n",
        "\n",
        "\n",
        "def greet():\n",
        "    print(\"Hello!\")  # **This is a function**\n",
        "\n",
        "\"hello\".upper()  # **This is a method called on a string**\n",
        "\n",
        "\n",
        "**2.Explain the concept of function arguments and parameters in Python.**\n",
        "\n",
        "•\tParameters are variables listed inside the function definition.\n",
        "\n",
        "•\tArguments are the actual values you pass into the function when calling it.\n",
        "\n",
        "Example:\n",
        "\n",
        "def add(a, b):  # a and b are parameters\n",
        "\n",
        "    return a + b\n",
        "\n",
        "result = add(5, 3)  # 5 and 3 are arguments\n",
        "\n",
        "\n",
        "**3.What are the different ways to define and call a function in Python?**\n",
        "\n",
        "\n",
        "**Ways to define a function:**\n",
        "\n",
        "•\tUsing def keyword\n",
        "\n",
        "•\tUsing lambda for small anonymous functions\n",
        "\n",
        "**Ways to call a function:**\n",
        "\n",
        "•\tBy just using its name and passing required arguments.\n",
        "\n",
        "Example:\n",
        "\n",
        "def square(x):\n",
        "\n",
        "    return x * x\n",
        "\n",
        "print(square(4))  # Function call\n",
        "\n",
        "#Lambda function\n",
        "\n",
        "square_lambda = lambda x: x * x\n",
        "\n",
        "print(square_lambda(4))\n",
        "\n",
        "\n",
        "4.What is the purpose of the return statement in a Python function?\n",
        "\n",
        "•\tThe return statement sends back a result from the function to where it was called.\n",
        "\n",
        "**Example:**\n",
        "\n",
        "def multiply(a, b):\n",
        "\n",
        "    return a * b\n",
        "\n",
        "\n",
        "result = multiply(4, 5)\n",
        "\n",
        "print(result)  # Outputs 20\n",
        "\n",
        "**5.What are iterators in Python and how do they differ from iterables?**\n",
        "\n",
        "\n",
        "•\tAn iterable is any object you can loop through (like lists, strings).\n",
        "\n",
        "•\tAn iterator is an object that keeps track of where you are in a loop, and gives one item at a time using __next__().\n",
        "\n",
        "Example:\n",
        "\n",
        "nums = [1, 2, 3]  # iterable\n",
        "\n",
        "it = iter(nums)   # iterator\n",
        "\n",
        "print(next(it))  # Outputs 1\n",
        "\n",
        "**6.Explain the concept of generators in Python and how they are defined.**\n",
        "\n",
        "•\tA generator is a function that remembers its state and gives one value at a time using yield.\n",
        "\n",
        "Example:\n",
        "\n",
        "def countdown(n):\n",
        "\n",
        "    while n > 0:\n",
        "\n",
        "        yield n\n",
        "\n",
        "        n -= 1\n",
        "\n",
        "\n",
        "for num in countdown(3):\n",
        "\n",
        "    print(num)\n",
        "\n",
        "**7.What are the advantages of using generators over regular functions?**\n",
        "\n",
        "•\tThey save memory because they generate values one at a time.\n",
        "\n",
        "•\tGood for working with large data.\n",
        "\n",
        "**Example:**\n",
        "\n",
        " Reading lines from a big file using a generator will use less memory than loading all lines at once.\n",
        "\n",
        "**8.What is a lambda function in Python and when is it typically used?**\n",
        "\n",
        "•\tA lambda function is a short, unnamed function used for quick tasks.\n",
        "\n",
        "•\tOften used with map(), filter(), sorted() etc.\n",
        "\n",
        "Example:\n",
        "\n",
        "add = lambda x, y: x + y\n",
        "\n",
        "print(add(3, 4))  # Outputs 7\n",
        "\n",
        "**9.Explain the purpose and usage of the map() function in Python.**\n",
        "\n",
        "•\tmap() applies a function to each item in an iterable.\n",
        "\n",
        "**Example:**\n",
        "\n",
        "nums = [1, 2, 3, 4]\n",
        "\n",
        "squared = map(lambda x: x**2, nums)\n",
        "\n",
        "print(list(squared))  # [1, 4, 9, 16]\n",
        "\n",
        "\n",
        "**10.What is the difference between map(), reduce(), and filter() functions in Python?**\n",
        "\n",
        "\n",
        "\n",
        "map()\tApplies a function to all items\tModified list\n",
        "\n",
        "filter()\tFilters items based on a condition\tFiltered list\n",
        "\n",
        "reduce()\tApplies a function cumulatively to reduce to a single value\tOne value\n",
        "\n",
        "**Example:**\n",
        "\n",
        "from functools import reduce\n",
        "\n",
        "\n",
        "nums = [1, 2, 3, 4]\n",
        "\n",
        "print(list(map(lambda x: x * 2, nums)))     # [2, 4, 6, 8]\n",
        "\n",
        "print(list(filter(lambda x: x % 2 == 0, nums)))  # [2, 4]\n",
        "\n",
        "print(reduce(lambda x, y: x + y, nums))     # 10\n",
        "\n",
        "\n"
      ],
      "metadata": {
        "id": "T579TA8seIpe"
      }
    },
    {
      "cell_type": "markdown",
      "source": [
        "# Practical Questions with Answers\n",
        "\n"
      ],
      "metadata": {
        "id": "JbLgrND2mhTg"
      }
    },
    {
      "cell_type": "markdown",
      "source": [],
      "metadata": {
        "id": "yUka1QpHB-sv"
      }
    },
    {
      "cell_type": "markdown",
      "source": [
        "**1.Write a Python function that takes a list of numbers as input and returns the sum of all even numbers in the list.**\n"
      ],
      "metadata": {
        "id": "z6xer3FLoc0n"
      }
    },
    {
      "cell_type": "code",
      "source": [
        "def sum_even_numbers(numbers):\n",
        "    return sum(num for num in numbers if num % 2 == 0)\n",
        "\n",
        "print(sum_even_numbers([1, 2, 3, 4, 5, 6]))"
      ],
      "metadata": {
        "colab": {
          "base_uri": "https://localhost:8080/"
        },
        "id": "ugCpt3wIognd",
        "outputId": "47bfcac7-53b3-4c55-f2d4-974f79763e78"
      },
      "execution_count": 1,
      "outputs": [
        {
          "output_type": "stream",
          "name": "stdout",
          "text": [
            "12\n"
          ]
        }
      ]
    },
    {
      "cell_type": "markdown",
      "source": [
        "**2.Create a Python function that accepts a string and returns the reverse of that string.**"
      ],
      "metadata": {
        "id": "IhRJ42ioom4H"
      }
    },
    {
      "cell_type": "code",
      "source": [
        "def reverse_string(s):\n",
        "    return s[::-1]\n",
        "\n",
        "print(reverse_string(\"python\"))"
      ],
      "metadata": {
        "colab": {
          "base_uri": "https://localhost:8080/"
        },
        "id": "qxqV6Ntgotov",
        "outputId": "7a8df5f5-18ee-495f-ec32-e8d0d35075d8"
      },
      "execution_count": 2,
      "outputs": [
        {
          "output_type": "stream",
          "name": "stdout",
          "text": [
            "nohtyp\n"
          ]
        }
      ]
    },
    {
      "cell_type": "markdown",
      "source": [
        "**3.Implement a Python function that takes a list of integers and returns a new list containing the squares of each number.**"
      ],
      "metadata": {
        "id": "M9CSa_RCoyke"
      }
    },
    {
      "cell_type": "code",
      "source": [
        "def square_list(numbers):\n",
        "    return [num ** 2 for num in numbers]\n",
        "\n",
        "print(square_list([1, 2, 3]))"
      ],
      "metadata": {
        "colab": {
          "base_uri": "https://localhost:8080/"
        },
        "id": "7W3oZxHCo7E-",
        "outputId": "5e497e94-1eaa-4019-cc91-fc11f573f81f"
      },
      "execution_count": 3,
      "outputs": [
        {
          "output_type": "stream",
          "name": "stdout",
          "text": [
            "[1, 4, 9]\n"
          ]
        }
      ]
    },
    {
      "cell_type": "markdown",
      "source": [
        "**4.Write a Python function that checks if a given number is prime or not from 1 to 200.**"
      ],
      "metadata": {
        "id": "E3h2Pfk0pLSf"
      }
    },
    {
      "cell_type": "code",
      "source": [
        "def is_prime(n):\n",
        "    if n < 2:\n",
        "        return False\n",
        "    for i in range(2, int(n**0.5)+1):\n",
        "        if n % i == 0:\n",
        "            return False\n",
        "    return True\n",
        "\n",
        "print([x for x in range(1, 201) if is_prime(x)])"
      ],
      "metadata": {
        "colab": {
          "base_uri": "https://localhost:8080/"
        },
        "id": "kiFJYh_hpQO3",
        "outputId": "b7979155-0b64-4292-ba5a-c004937f073f"
      },
      "execution_count": 4,
      "outputs": [
        {
          "output_type": "stream",
          "name": "stdout",
          "text": [
            "[2, 3, 5, 7, 11, 13, 17, 19, 23, 29, 31, 37, 41, 43, 47, 53, 59, 61, 67, 71, 73, 79, 83, 89, 97, 101, 103, 107, 109, 113, 127, 131, 137, 139, 149, 151, 157, 163, 167, 173, 179, 181, 191, 193, 197, 199]\n"
          ]
        }
      ]
    },
    {
      "cell_type": "markdown",
      "source": [
        "**5.Create an iterator class in Python that generates the Fibonacci sequence up to a specified number of terms.**"
      ],
      "metadata": {
        "id": "fUWeXGvapZaI"
      }
    },
    {
      "cell_type": "code",
      "source": [
        "class Fibonacci:\n",
        "    def __init__(self, limit):\n",
        "        self.a, self.b = 0, 1\n",
        "        self.limit = limit\n",
        "\n",
        "    def __iter__(self):\n",
        "        return self\n",
        "\n",
        "    def __next__(self):\n",
        "        if self.a > self.limit:\n",
        "            raise StopIteration\n",
        "        value = self.a\n",
        "        self.a, self.b = self.b, self.a + self.b\n",
        "        return value\n",
        "\n",
        "for num in Fibonacci(100):\n",
        "    print(num, end=\" \")"
      ],
      "metadata": {
        "colab": {
          "base_uri": "https://localhost:8080/"
        },
        "id": "7QjLNW8OpgvH",
        "outputId": "3ecb726b-640e-499c-ff45-2e94c903684f"
      },
      "execution_count": 5,
      "outputs": [
        {
          "output_type": "stream",
          "name": "stdout",
          "text": [
            "0 1 1 2 3 5 8 13 21 34 55 89 "
          ]
        }
      ]
    },
    {
      "cell_type": "markdown",
      "source": [
        "**6.Write a generator function in Python that yields the powers of 2 up to a given exponent.**"
      ],
      "metadata": {
        "id": "2HbXaDxYpokQ"
      }
    },
    {
      "cell_type": "code",
      "source": [
        "def powers_of_two(n):\n",
        "    for i in range(n + 1):\n",
        "        yield 2 ** i\n",
        "\n",
        "print(list(powers_of_two(5)))"
      ],
      "metadata": {
        "colab": {
          "base_uri": "https://localhost:8080/"
        },
        "id": "a5WUCNtUpuwP",
        "outputId": "c06000e2-dc39-4966-9bf9-ee25da305b94"
      },
      "execution_count": 8,
      "outputs": [
        {
          "output_type": "stream",
          "name": "stdout",
          "text": [
            "[1, 2, 4, 8, 16, 32]\n"
          ]
        }
      ]
    },
    {
      "cell_type": "markdown",
      "source": [
        "**7.Implement a generator function that reads a file line by line and yields each line as a string.**"
      ],
      "metadata": {
        "id": "Ck3Jv79iqBev"
      }
    },
    {
      "cell_type": "code",
      "source": [
        "def read_file_line_by_line(file_path):\n",
        "    with open(file_path, 'r', encoding='utf-8') as file:\n",
        "        for line in file:\n",
        "            yield line"
      ],
      "metadata": {
        "id": "2IRh3_6eqHum"
      },
      "execution_count": 19,
      "outputs": []
    },
    {
      "cell_type": "markdown",
      "source": [
        "**8.Use a lambda function in Python to sort a list of tuples based on the second element of each tuple.**"
      ],
      "metadata": {
        "id": "FGbPM4bnsyCY"
      }
    },
    {
      "cell_type": "code",
      "source": [
        "data = [(1, 3), (2, 2), (3, 1)]\n",
        "sorted_data = sorted(data, key=lambda x: x[1])\n",
        "print(sorted_data)"
      ],
      "metadata": {
        "colab": {
          "base_uri": "https://localhost:8080/"
        },
        "id": "4vOhJjE9tEC4",
        "outputId": "d61a35de-4405-4c78-decc-91bc30417078"
      },
      "execution_count": 18,
      "outputs": [
        {
          "output_type": "stream",
          "name": "stdout",
          "text": [
            "[(3, 1), (2, 2), (1, 3)]\n"
          ]
        }
      ]
    },
    {
      "cell_type": "markdown",
      "source": [
        "**9.Write a Python program that uses map() to convert a list of temperatures from Celsius to Fahrenheit.**"
      ],
      "metadata": {
        "id": "baDlsQw1tL3V"
      }
    },
    {
      "cell_type": "code",
      "source": [
        "celsius = [0, 20, 30, 40]\n",
        "fahrenheit = list(map(lambda c: (9/5) * c + 32, celsius))\n",
        "print(fahrenheit)"
      ],
      "metadata": {
        "colab": {
          "base_uri": "https://localhost:8080/"
        },
        "id": "qqdz5BuZtU8i",
        "outputId": "f61d8674-4501-4cdb-b4b9-d91f9ba6a6e2"
      },
      "execution_count": 20,
      "outputs": [
        {
          "output_type": "stream",
          "name": "stdout",
          "text": [
            "[32.0, 68.0, 86.0, 104.0]\n"
          ]
        }
      ]
    },
    {
      "cell_type": "markdown",
      "source": [
        "**10.Create a Python program that uses filter() to remove all the vowels from a given string.**"
      ],
      "metadata": {
        "id": "EvsC0cEktc9w"
      }
    },
    {
      "cell_type": "code",
      "source": [
        "def remove_vowels(s):\n",
        "    return ''.join(filter(lambda x: x.lower() not in \"aeiou\", s))\n",
        "\n",
        "print(remove_vowels(\"Education\"))"
      ],
      "metadata": {
        "colab": {
          "base_uri": "https://localhost:8080/"
        },
        "id": "AG-9RqqZtf_R",
        "outputId": "024f60fa-916d-4475-f906-7d85ce22e825"
      },
      "execution_count": 21,
      "outputs": [
        {
          "output_type": "stream",
          "name": "stdout",
          "text": [
            "dctn\n"
          ]
        }
      ]
    },
    {
      "cell_type": "markdown",
      "source": [
        "**11.Imagine an accounting routine used in a book shop. It works on a list with sublists, which look like this:**\n",
        "\n",
        "..........\n",
        "\n",
        "\n",
        "\n",
        "\n",
        "\n",
        "\n",
        "\n",
        "Write a Python program, which returns a list with 2-tuples. Each tuple consists of the order number and the\n",
        "product of the price per item and the quantity. The product should be increased by 10,- € if the value of the\n",
        "order is smaller than 100,00 €.\n",
        "\n",
        "**Write a Python program using lambda and map**"
      ],
      "metadata": {
        "id": "_y_m11OCuS2Y"
      }
    },
    {
      "cell_type": "code",
      "source": [
        "# Given book data\n",
        "orders = [\n",
        "    [34587, \"Learning Python, Mark Lutz\", 4, 40.95],\n",
        "    [98762, \"Programming Python, Mark Lutz\", 5, 56.80],\n",
        "    [77226, \"Head First Python, Paul Barry\", 3, 32.95],\n",
        "    [88112, \"Einführung in Python3, Bernd Klein\", 3, 24.99]\n",
        "]\n",
        "\n",
        "# Using lambda and map\n",
        "final_output = list(map(\n",
        "    lambda order: (order[0], order[2] * order[3] if order[2] * order[3] >= 100 else order[2] * order[3] + 10),\n",
        "    orders\n",
        "))\n",
        "\n",
        "# Output\n",
        "print(final_output)"
      ],
      "metadata": {
        "colab": {
          "base_uri": "https://localhost:8080/"
        },
        "id": "NCpbj2g_uVAB",
        "outputId": "ed060ac9-e6df-4810-9965-56c0fb4cc4cd"
      },
      "execution_count": 27,
      "outputs": [
        {
          "output_type": "stream",
          "name": "stdout",
          "text": [
            "[(34587, 163.8), (98762, 284.0), (77226, 108.85000000000001), (88112, 84.97)]\n"
          ]
        }
      ]
    },
    {
      "cell_type": "code",
      "source": [],
      "metadata": {
        "id": "eUKQQ3nkuQdi"
      },
      "execution_count": null,
      "outputs": []
    },
    {
      "cell_type": "markdown",
      "source": [],
      "metadata": {
        "id": "F6IDpvJtuQKh"
      }
    }
  ]
}